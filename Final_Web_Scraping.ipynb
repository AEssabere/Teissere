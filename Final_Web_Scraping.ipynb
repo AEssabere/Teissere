{
 "cells": [
  {
   "cell_type": "markdown",
   "id": "8704e0d5",
   "metadata": {},
   "source": [
    "# Scraper tous les données et les stocker dans des listes"
   ]
  },
  {
   "cell_type": "markdown",
   "id": "53870308",
   "metadata": {},
   "source": [
    "## les librairies à importer"
   ]
  },
  {
   "cell_type": "code",
   "execution_count": null,
   "id": "89cbba28",
   "metadata": {},
   "outputs": [],
   "source": [
    "from bs4 import BeautifulSoup"
   ]
  },
  {
   "cell_type": "code",
   "execution_count": null,
   "id": "3811effb",
   "metadata": {},
   "outputs": [],
   "source": [
    "import requests"
   ]
  },
  {
   "cell_type": "code",
   "execution_count": null,
   "id": "27fa9870",
   "metadata": {},
   "outputs": [],
   "source": [
    "import lxml.html as lh"
   ]
  },
  {
   "cell_type": "code",
   "execution_count": null,
   "id": "191db5cd",
   "metadata": {},
   "outputs": [],
   "source": [
    "import pandas as pd"
   ]
  },
  {
   "cell_type": "code",
   "execution_count": null,
   "id": "a3c89133",
   "metadata": {},
   "outputs": [],
   "source": [
    "from random import randint"
   ]
  },
  {
   "cell_type": "code",
   "execution_count": null,
   "id": "efe281a7",
   "metadata": {},
   "outputs": [],
   "source": [
    "from time import sleep"
   ]
  },
  {
   "cell_type": "code",
   "execution_count": null,
   "id": "555e6b8b",
   "metadata": {},
   "outputs": [],
   "source": [
    "def fonction_url(m,a):    #  m : le mois ; a : l'année\n",
    "    if m <10:\n",
    "        return(f\"http://www.infoclimat.fr/stations-meteo/analyses-mensuelles.php?mois=0{m}&annee={a}\")\n",
    "    else:\n",
    "        return(f\"http://www.infoclimat.fr/stations-meteo/analyses-mensuelles.php?mois={m}&annee={a}\")"
   ]
  },
  {
   "cell_type": "code",
   "execution_count": null,
   "id": "8706ed27",
   "metadata": {},
   "outputs": [],
   "source": [
    "# cette fonction suppprime tout ce qui est après \"le (inclus)\"\n",
    "def supp_le(e):\n",
    "    c = 'le'\n",
    "    if c in str(e):\n",
    "        e = str(e)\n",
    "        return float(e[:e.index(c)])"
   ]
  },
  {
   "cell_type": "markdown",
   "id": "08d89831",
   "metadata": {},
   "source": [
    "## Le scraping des données et la creation de pandas dataframe"
   ]
  },
  {
   "cell_type": "markdown",
   "id": "b75fe28f",
   "metadata": {},
   "source": [
    "Cette fois on va esayer d'extraire les données de 2018"
   ]
  },
  {
   "cell_type": "code",
   "execution_count": null,
   "id": "e2fdbe73",
   "metadata": {},
   "outputs": [],
   "source": [
    "Dico = {}    # this a dictionnary that stores the year numbers as keys and lst as values \n",
    "a = 2018    \n",
    "lst = [] # this a list that stores all monthly data of each year \n",
    "for m in range(1,4):\n",
    "        url = fonction_url(m,a)\n",
    "        page = requests.get(url)# copier la page du site\n",
    "        doc = lh.fromstring(page.content)# stocker tout le contenu dans doc\n",
    "        tr_elements = doc.xpath('//tr')# extraire les données stockés entre <tr>..</tr> du HTML\n",
    "        tr_elements = doc.xpath('//tr')\n",
    "\n",
    "        col=[]   # une liste vide \n",
    "        i=1    # pour chaque ligne, on stocke le nom dans col\n",
    "        lst_nom = [\"Station\",\"Temperature minimale extrême du mois\",\"Moyenne du temperature minimale du mois\",\n",
    "                   \"Temperature moyenne du mois\",\"Moyenne des température maximale du mois\",\"Température maximale extrême\",\n",
    "                   \"Cumul de précipitations du mois\",\"Heures d'ensolleiment du mois\",\"Rafale\"]\n",
    "        for nom in lst_nom:\n",
    "            col.append((nom,[]))   # col contient des tuples ( nom , [])\n",
    "        #la première ligne est le header, les données sont stockées à partir de la deuxième ligne.\n",
    "        for j in range(1,len(tr_elements)):\n",
    "            T=tr_elements[j]\n",
    "            #si la ligne n'est pas de taille  de T \n",
    "            if len(T)!= 9 :\n",
    "                 break\n",
    "            i = 0 # l'indice de la colonne\n",
    "            # pour chaque element de la ligne\n",
    "            for t in T.iterchildren():\n",
    "                data = t.text_content() \n",
    "                # si la ligne est vide\n",
    "                try:\n",
    "                    data = float(data)\n",
    "                except:\n",
    "                    pass  \n",
    "                col[i][1].append(data)  # ajouter la data à la liste vide de la ième colonne*\n",
    "                i += 1\n",
    "        Dict={n:colonne for (n,colonne) in col}\n",
    "        df=pd.DataFrame(Dict)\n",
    "        # appliquer la fonction supp_le\n",
    "        df['Temperature minimale extrême du mois'] = df['Temperature minimale extrême du mois'].apply(supp_le)   \n",
    "        df ['Température maximale extrême'] =  df['Température maximale extrême'].apply(supp_le)\n",
    "        lst.append(df)\n",
    "        sleep(randint(2,4))"
   ]
  },
  {
   "cell_type": "markdown",
   "id": "487f9435",
   "metadata": {},
   "source": [
    "convertir chaque pandas dataframe à une feuille dans un seul fichier excel qu'on le nommera données 2018"
   ]
  },
  {
   "cell_type": "code",
   "execution_count": null,
   "id": "3fbb2489",
   "metadata": {},
   "outputs": [],
   "source": [
    "# créer un excel writer en utilisant le moteur xlsxwriter\n",
    "writer = pd.ExcelWriter('données2018.xlsx' , engine = 'xlsxwriter') \n",
    "\n",
    "# écrire chaque pandas dataframe de lst à une feuille du fichier excel\n",
    "\n",
    "lst[0].to_excel(writer , sheet_name = 'Feuille1')\n",
    "lst[1].to_excel(writer , sheet_name = 'Feuille2')\n",
    "lst[2].to_excel(writer , sheet_name = 'Feuille3')\n",
    "    \n",
    "writer.save()"
   ]
  },
  {
   "cell_type": "markdown",
   "id": "cca387df",
   "metadata": {},
   "source": [
    "On applique la méthode ci-dessus pour scraper tous les données de 2017 à 2021, ça prend beaucoup de temps , la complexité est de O(n^4) avec n grande (d'ordre 100) "
   ]
  }
 ],
 "metadata": {
  "kernelspec": {
   "display_name": "Python 3",
   "language": "python",
   "name": "python3"
  },
  "language_info": {
   "codemirror_mode": {
    "name": "ipython",
    "version": 3
   },
   "file_extension": ".py",
   "mimetype": "text/x-python",
   "name": "python",
   "nbconvert_exporter": "python",
   "pygments_lexer": "ipython3",
   "version": "3.8.8"
  }
 },
 "nbformat": 4,
 "nbformat_minor": 5
}
